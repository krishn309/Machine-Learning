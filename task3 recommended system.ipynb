{
 "cells": [
  {
   "cell_type": "code",
   "execution_count": 3,
   "id": "eda8cac8-8ccb-4507-8d7b-3166b94cf760",
   "metadata": {},
   "outputs": [],
   "source": [
    "# ======================================\n",
    "# Cell 1: Import Libraries\n",
    "# ======================================\n",
    "import pandas as pd\n",
    "import numpy as np\n"
   ]
  },
  {
   "cell_type": "code",
   "execution_count": 13,
   "id": "d650374d-8511-47f1-a6bc-1c20a4b2d0e9",
   "metadata": {},
   "outputs": [
    {
     "name": "stdout",
     "output_type": "stream",
     "text": [
      "Ratings Data:\n"
     ]
    },
    {
     "data": {
      "text/html": [
       "<div>\n",
       "<style scoped>\n",
       "    .dataframe tbody tr th:only-of-type {\n",
       "        vertical-align: middle;\n",
       "    }\n",
       "\n",
       "    .dataframe tbody tr th {\n",
       "        vertical-align: top;\n",
       "    }\n",
       "\n",
       "    .dataframe thead th {\n",
       "        text-align: right;\n",
       "    }\n",
       "</style>\n",
       "<table border=\"1\" class=\"dataframe\">\n",
       "  <thead>\n",
       "    <tr style=\"text-align: right;\">\n",
       "      <th></th>\n",
       "      <th>userId</th>\n",
       "      <th>itemId</th>\n",
       "      <th>rating</th>\n",
       "    </tr>\n",
       "  </thead>\n",
       "  <tbody>\n",
       "    <tr>\n",
       "      <th>0</th>\n",
       "      <td>1</td>\n",
       "      <td>A</td>\n",
       "      <td>5</td>\n",
       "    </tr>\n",
       "    <tr>\n",
       "      <th>1</th>\n",
       "      <td>1</td>\n",
       "      <td>B</td>\n",
       "      <td>4</td>\n",
       "    </tr>\n",
       "    <tr>\n",
       "      <th>2</th>\n",
       "      <td>2</td>\n",
       "      <td>A</td>\n",
       "      <td>4</td>\n",
       "    </tr>\n",
       "    <tr>\n",
       "      <th>3</th>\n",
       "      <td>2</td>\n",
       "      <td>C</td>\n",
       "      <td>5</td>\n",
       "    </tr>\n",
       "    <tr>\n",
       "      <th>4</th>\n",
       "      <td>3</td>\n",
       "      <td>B</td>\n",
       "      <td>2</td>\n",
       "    </tr>\n",
       "    <tr>\n",
       "      <th>5</th>\n",
       "      <td>3</td>\n",
       "      <td>D</td>\n",
       "      <td>3</td>\n",
       "    </tr>\n",
       "    <tr>\n",
       "      <th>6</th>\n",
       "      <td>4</td>\n",
       "      <td>A</td>\n",
       "      <td>3</td>\n",
       "    </tr>\n",
       "    <tr>\n",
       "      <th>7</th>\n",
       "      <td>4</td>\n",
       "      <td>D</td>\n",
       "      <td>4</td>\n",
       "    </tr>\n",
       "  </tbody>\n",
       "</table>\n",
       "</div>"
      ],
      "text/plain": [
       "   userId itemId  rating\n",
       "0       1      A       5\n",
       "1       1      B       4\n",
       "2       2      A       4\n",
       "3       2      C       5\n",
       "4       3      B       2\n",
       "5       3      D       3\n",
       "6       4      A       3\n",
       "7       4      D       4"
      ]
     },
     "execution_count": 13,
     "metadata": {},
     "output_type": "execute_result"
    }
   ],
   "source": [
    "# ======================================\n",
    "# Cell 2: Create Ratings Dataset\n",
    "# ======================================\n",
    "\n",
    "# Each row represents a user rating for an item.\n",
    "ratings_dict = {\n",
    "    \"userId\": [1, 1, 2, 2, 3, 3, 4, 4],  # Users\n",
    "    \"itemId\": [\"A\", \"B\", \"A\", \"C\", \"B\", \"D\", \"A\", \"D\"],  # Items\n",
    "    \"rating\": [5, 4, 4, 5, 2, 3, 3, 4],  # Ratings (1-5)\n",
    "}\n",
    "\n",
    "# Create DataFrame\n",
    "df = pd.DataFrame(ratings_dict)\n",
    "print(\"Ratings Data:\")\n",
    "df\n"
   ]
  },
  {
   "cell_type": "code",
   "execution_count": 12,
   "id": "7e354a21-95a0-4acc-ad97-d256e6337b38",
   "metadata": {},
   "outputs": [
    {
     "name": "stdout",
     "output_type": "stream",
     "text": [
      "User-Item Matrix:\n"
     ]
    },
    {
     "data": {
      "text/html": [
       "<div>\n",
       "<style scoped>\n",
       "    .dataframe tbody tr th:only-of-type {\n",
       "        vertical-align: middle;\n",
       "    }\n",
       "\n",
       "    .dataframe tbody tr th {\n",
       "        vertical-align: top;\n",
       "    }\n",
       "\n",
       "    .dataframe thead th {\n",
       "        text-align: right;\n",
       "    }\n",
       "</style>\n",
       "<table border=\"1\" class=\"dataframe\">\n",
       "  <thead>\n",
       "    <tr style=\"text-align: right;\">\n",
       "      <th>itemId</th>\n",
       "      <th>A</th>\n",
       "      <th>B</th>\n",
       "      <th>C</th>\n",
       "      <th>D</th>\n",
       "    </tr>\n",
       "    <tr>\n",
       "      <th>userId</th>\n",
       "      <th></th>\n",
       "      <th></th>\n",
       "      <th></th>\n",
       "      <th></th>\n",
       "    </tr>\n",
       "  </thead>\n",
       "  <tbody>\n",
       "    <tr>\n",
       "      <th>1</th>\n",
       "      <td>5.0</td>\n",
       "      <td>4.0</td>\n",
       "      <td>0.0</td>\n",
       "      <td>0.0</td>\n",
       "    </tr>\n",
       "    <tr>\n",
       "      <th>2</th>\n",
       "      <td>4.0</td>\n",
       "      <td>0.0</td>\n",
       "      <td>5.0</td>\n",
       "      <td>0.0</td>\n",
       "    </tr>\n",
       "    <tr>\n",
       "      <th>3</th>\n",
       "      <td>0.0</td>\n",
       "      <td>2.0</td>\n",
       "      <td>0.0</td>\n",
       "      <td>3.0</td>\n",
       "    </tr>\n",
       "    <tr>\n",
       "      <th>4</th>\n",
       "      <td>3.0</td>\n",
       "      <td>0.0</td>\n",
       "      <td>0.0</td>\n",
       "      <td>4.0</td>\n",
       "    </tr>\n",
       "  </tbody>\n",
       "</table>\n",
       "</div>"
      ],
      "text/plain": [
       "itemId    A    B    C    D\n",
       "userId                    \n",
       "1       5.0  4.0  0.0  0.0\n",
       "2       4.0  0.0  5.0  0.0\n",
       "3       0.0  2.0  0.0  3.0\n",
       "4       3.0  0.0  0.0  4.0"
      ]
     },
     "execution_count": 12,
     "metadata": {},
     "output_type": "execute_result"
    }
   ],
   "source": [
    "# ======================================\n",
    "# Cell 3: Create User-Item Matrix\n",
    "# ======================================\n",
    "\n",
    "# Convert to user-item matrix with 0 for missing ratings\n",
    "user_item_matrix = df.pivot_table(\n",
    "    index='userId',\n",
    "    columns='itemId',\n",
    "    values='rating'\n",
    ").fillna(0)\n",
    "\n",
    "print(\"User-Item Matrix:\")\n",
    "user_item_matrix\n"
   ]
  },
  {
   "cell_type": "code",
   "execution_count": 6,
   "id": "90b773de-ab3a-4e47-98aa-1a28fcaa57b8",
   "metadata": {},
   "outputs": [],
   "source": [
    "# ======================================\n",
    "# Cell 4: Apply Singular Value Decomposition (SVD)\n",
    "# ======================================\n",
    "\n",
    "# Decompose the user-item matrix\n",
    "U, sigma, Vt = np.linalg.svd(user_item_matrix, full_matrices=False)\n",
    "\n",
    "# Convert sigma (1D) into diagonal matrix\n",
    "sigma = np.diag(sigma)\n"
   ]
  },
  {
   "cell_type": "code",
   "execution_count": 10,
   "id": "83db2060-f748-4715-8666-5aebd4a8a8ba",
   "metadata": {},
   "outputs": [
    {
     "name": "stdout",
     "output_type": "stream",
     "text": [
      "Predicted Ratings Matrix:\n"
     ]
    },
    {
     "data": {
      "text/html": [
       "<div>\n",
       "<style scoped>\n",
       "    .dataframe tbody tr th:only-of-type {\n",
       "        vertical-align: middle;\n",
       "    }\n",
       "\n",
       "    .dataframe tbody tr th {\n",
       "        vertical-align: top;\n",
       "    }\n",
       "\n",
       "    .dataframe thead th {\n",
       "        text-align: right;\n",
       "    }\n",
       "</style>\n",
       "<table border=\"1\" class=\"dataframe\">\n",
       "  <thead>\n",
       "    <tr style=\"text-align: right;\">\n",
       "      <th>itemId</th>\n",
       "      <th>A</th>\n",
       "      <th>B</th>\n",
       "      <th>C</th>\n",
       "      <th>D</th>\n",
       "    </tr>\n",
       "    <tr>\n",
       "      <th>userId</th>\n",
       "      <th></th>\n",
       "      <th></th>\n",
       "      <th></th>\n",
       "      <th></th>\n",
       "    </tr>\n",
       "  </thead>\n",
       "  <tbody>\n",
       "    <tr>\n",
       "      <th>1</th>\n",
       "      <td>5.0</td>\n",
       "      <td>4.000000e+00</td>\n",
       "      <td>-5.551115e-16</td>\n",
       "      <td>-9.992007e-16</td>\n",
       "    </tr>\n",
       "    <tr>\n",
       "      <th>2</th>\n",
       "      <td>4.0</td>\n",
       "      <td>-1.332268e-15</td>\n",
       "      <td>5.000000e+00</td>\n",
       "      <td>8.881784e-16</td>\n",
       "    </tr>\n",
       "    <tr>\n",
       "      <th>3</th>\n",
       "      <td>0.0</td>\n",
       "      <td>2.000000e+00</td>\n",
       "      <td>7.771561e-16</td>\n",
       "      <td>3.000000e+00</td>\n",
       "    </tr>\n",
       "    <tr>\n",
       "      <th>4</th>\n",
       "      <td>3.0</td>\n",
       "      <td>-1.110223e-16</td>\n",
       "      <td>-4.440892e-16</td>\n",
       "      <td>4.000000e+00</td>\n",
       "    </tr>\n",
       "  </tbody>\n",
       "</table>\n",
       "</div>"
      ],
      "text/plain": [
       "itemId    A             B             C             D\n",
       "userId                                               \n",
       "1       5.0  4.000000e+00 -5.551115e-16 -9.992007e-16\n",
       "2       4.0 -1.332268e-15  5.000000e+00  8.881784e-16\n",
       "3       0.0  2.000000e+00  7.771561e-16  3.000000e+00\n",
       "4       3.0 -1.110223e-16 -4.440892e-16  4.000000e+00"
      ]
     },
     "execution_count": 10,
     "metadata": {},
     "output_type": "execute_result"
    }
   ],
   "source": [
    "# ======================================\n",
    "# Cell 5: Reconstruct Predicted Ratings\n",
    "# ======================================\n",
    "\n",
    "# Predicted ratings = U * Sigma * Vt\n",
    "predicted_ratings = np.dot(np.dot(U, sigma), Vt)\n",
    "\n",
    "# Convert to DataFrame\n",
    "pred_df = pd.DataFrame(\n",
    "    predicted_ratings,\n",
    "    index=user_item_matrix.index,\n",
    "    columns=user_item_matrix.columns\n",
    ")\n",
    "\n",
    "print(\"Predicted Ratings Matrix:\")\n",
    "pred_df\n"
   ]
  },
  {
   "cell_type": "code",
   "execution_count": 8,
   "id": "637e5d9e-2ece-42fd-bfb3-60965d510770",
   "metadata": {},
   "outputs": [],
   "source": [
    "# ======================================\n",
    "# Cell 6: Recommendation Function\n",
    "# ======================================\n",
    "\n",
    "def recommend_items(user_id, n=2):\n",
    "    \"\"\"\n",
    "    Recommend top 'n' items for a given user based on predicted ratings.\n",
    "    \"\"\"\n",
    "    # Get predicted ratings for the user\n",
    "    user_ratings = pred_df.loc[user_id]\n",
    "    \n",
    "    # Exclude items the user already rated\n",
    "    already_rated = df[df['userId'] == user_id]['itemId'].values\n",
    "    \n",
    "    # Get top N highest predicted ratings\n",
    "    recommendations = user_ratings.drop(already_rated).sort_values(ascending=False)[:n]\n",
    "    \n",
    "    return recommendations\n"
   ]
  },
  {
   "cell_type": "code",
   "execution_count": 11,
   "id": "3bf1c2e3-1abc-49ea-9fe0-5efd579ffa7c",
   "metadata": {},
   "outputs": [
    {
     "name": "stdout",
     "output_type": "stream",
     "text": [
      "Top Recommendations for User 1:\n"
     ]
    },
    {
     "data": {
      "text/plain": [
       "itemId\n",
       "C   -5.551115e-16\n",
       "D   -9.992007e-16\n",
       "Name: 1, dtype: float64"
      ]
     },
     "execution_count": 11,
     "metadata": {},
     "output_type": "execute_result"
    }
   ],
   "source": [
    "# ======================================\n",
    "# Cell 7: Display Recommendations\n",
    "# ======================================\n",
    "\n",
    "print(\"Top Recommendations for User 1:\")\n",
    "recommend_items(1)"
   ]
  },
  {
   "cell_type": "code",
   "execution_count": null,
   "id": "17e8f1b7-e49b-4ef4-a0ed-c8a4f0b5c986",
   "metadata": {},
   "outputs": [],
   "source": []
  }
 ],
 "metadata": {
  "kernelspec": {
   "display_name": "Python 3 (ipykernel)",
   "language": "python",
   "name": "python3"
  },
  "language_info": {
   "codemirror_mode": {
    "name": "ipython",
    "version": 3
   },
   "file_extension": ".py",
   "mimetype": "text/x-python",
   "name": "python",
   "nbconvert_exporter": "python",
   "pygments_lexer": "ipython3",
   "version": "3.13.5"
  }
 },
 "nbformat": 4,
 "nbformat_minor": 5
}
